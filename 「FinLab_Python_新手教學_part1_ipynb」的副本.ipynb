{
  "nbformat": 4,
  "nbformat_minor": 0,
  "metadata": {
    "colab": {
      "name": "「FinLab Python 新手教學 part1.ipynb」的副本",
      "provenance": [],
      "include_colab_link": true
    },
    "kernelspec": {
      "name": "python3",
      "display_name": "Python 3"
    }
  },
  "cells": [
    {
      "cell_type": "markdown",
      "metadata": {
        "id": "view-in-github",
        "colab_type": "text"
      },
      "source": [
        "<a href=\"https://colab.research.google.com/github/gabrielwang47/python_practice/blob/main/%E3%80%8CFinLab_Python_%E6%96%B0%E6%89%8B%E6%95%99%E5%AD%B8_part1_ipynb%E3%80%8D%E7%9A%84%E5%89%AF%E6%9C%AC.ipynb\" target=\"_parent\"><img src=\"https://colab.research.google.com/assets/colab-badge.svg\" alt=\"Open In Colab\"/></a>"
      ]
    },
    {
      "cell_type": "code",
      "metadata": {
        "colab": {
          "base_uri": "https://localhost:8080/"
        },
        "id": "9BRO4TT7AXx6",
        "outputId": "dc1a26d3-c9cb-423c-b62e-aa0440db0a72"
      },
      "source": [
        "import requests\n",
        "\n",
        "# 網址\n",
        "site = \"https://query1.finance.yahoo.com/v8/finance/chart/2330.TW?period1=0&period2=1549258857&interval=1d&events=history&=hP2rOschxO0\"\n",
        "\n",
        "# 利用 requests 來跟遠端 server 索取資料\n",
        "response = requests.get(site)\n",
        "\n",
        "print(response.text)"
      ],
      "execution_count": null,
      "outputs": [
        {
          "output_type": "stream",
          "name": "stdout",
          "text": [
            "Forbidden\n"
          ]
        }
      ]
    },
    {
      "cell_type": "code",
      "metadata": {
        "id": "lWDXT2SaAeyt"
      },
      "source": [
        "import json\n",
        "import numpy as np\n",
        "import pandas as pd\n",
        "\n",
        "data = json.loads(response.text)\n",
        "df = pd.DataFrame(data['chart']['result'][0]['indicators']['quote'][0], index=pd.to_datetime(np.array(data['chart']['result'][0]['timestamp'])*1000*1000*1000))"
      ],
      "execution_count": null,
      "outputs": []
    },
    {
      "cell_type": "code",
      "metadata": {
        "colab": {
          "base_uri": "https://localhost:8080/",
          "height": 204
        },
        "id": "cHWAkItYAndN",
        "outputId": "77e251e5-bc8a-4a4e-c639-e824aaacda49"
      },
      "source": [
        "df.head()"
      ],
      "execution_count": null,
      "outputs": [
        {
          "output_type": "execute_result",
          "data": {
            "text/html": [
              "<div>\n",
              "<style scoped>\n",
              "    .dataframe tbody tr th:only-of-type {\n",
              "        vertical-align: middle;\n",
              "    }\n",
              "\n",
              "    .dataframe tbody tr th {\n",
              "        vertical-align: top;\n",
              "    }\n",
              "\n",
              "    .dataframe thead th {\n",
              "        text-align: right;\n",
              "    }\n",
              "</style>\n",
              "<table border=\"1\" class=\"dataframe\">\n",
              "  <thead>\n",
              "    <tr style=\"text-align: right;\">\n",
              "      <th></th>\n",
              "      <th>close</th>\n",
              "      <th>volume</th>\n",
              "      <th>open</th>\n",
              "      <th>high</th>\n",
              "      <th>low</th>\n",
              "    </tr>\n",
              "  </thead>\n",
              "  <tbody>\n",
              "    <tr>\n",
              "      <th>2000-01-04 01:00:00</th>\n",
              "      <td>69.649002</td>\n",
              "      <td>2.006623e+11</td>\n",
              "      <td>69.649002</td>\n",
              "      <td>69.649002</td>\n",
              "      <td>68.475197</td>\n",
              "    </tr>\n",
              "    <tr>\n",
              "      <th>2000-01-05 01:00:00</th>\n",
              "      <td>71.214104</td>\n",
              "      <td>4.024668e+11</td>\n",
              "      <td>69.649002</td>\n",
              "      <td>71.214104</td>\n",
              "      <td>68.866302</td>\n",
              "    </tr>\n",
              "    <tr>\n",
              "      <th>2000-01-06 01:00:00</th>\n",
              "      <td>69.649002</td>\n",
              "      <td>1.975457e+11</td>\n",
              "      <td>70.822899</td>\n",
              "      <td>71.214104</td>\n",
              "      <td>69.649002</td>\n",
              "    </tr>\n",
              "    <tr>\n",
              "      <th>2000-01-07 01:00:00</th>\n",
              "      <td>67.692497</td>\n",
              "      <td>2.352703e+11</td>\n",
              "      <td>67.301300</td>\n",
              "      <td>68.475197</td>\n",
              "      <td>66.518600</td>\n",
              "    </tr>\n",
              "    <tr>\n",
              "      <th>2000-01-10 01:00:00</th>\n",
              "      <td>70.040199</td>\n",
              "      <td>2.761717e+11</td>\n",
              "      <td>69.649002</td>\n",
              "      <td>70.431396</td>\n",
              "      <td>68.475197</td>\n",
              "    </tr>\n",
              "  </tbody>\n",
              "</table>\n",
              "</div>"
            ],
            "text/plain": [
              "                         close        volume       open       high        low\n",
              "2000-01-04 01:00:00  69.649002  2.006623e+11  69.649002  69.649002  68.475197\n",
              "2000-01-05 01:00:00  71.214104  4.024668e+11  69.649002  71.214104  68.866302\n",
              "2000-01-06 01:00:00  69.649002  1.975457e+11  70.822899  71.214104  69.649002\n",
              "2000-01-07 01:00:00  67.692497  2.352703e+11  67.301300  68.475197  66.518600\n",
              "2000-01-10 01:00:00  70.040199  2.761717e+11  69.649002  70.431396  68.475197"
            ]
          },
          "metadata": {
            "tags": []
          },
          "execution_count": 4
        }
      ]
    },
    {
      "cell_type": "code",
      "metadata": {
        "colab": {
          "base_uri": "https://localhost:8080/",
          "height": 272
        },
        "id": "67CuRT0GAp6w",
        "outputId": "f025bdcd-829c-423d-a3b8-d1bb0968efa4"
      },
      "source": [
        "df.close.plot()"
      ],
      "execution_count": null,
      "outputs": [
        {
          "output_type": "execute_result",
          "data": {
            "text/plain": [
              "<matplotlib.axes._subplots.AxesSubplot at 0x7fc88f903eb8>"
            ]
          },
          "metadata": {
            "tags": []
          },
          "execution_count": 5
        },
        {
          "output_type": "display_data",
          "data": {
            "image/png": "[encoded data removed]",
            "text/plain": [
              "<Figure size 432x288 with 1 Axes>"
            ]
          },
          "metadata": {
            "tags": [],
            "needs_background": "light"
          }
        }
      ]
    },
    {
      "cell_type": "code",
      "metadata": {
        "id": "hGOdSCq8Asks"
      },
      "source": [
        ""
      ],
      "execution_count": null,
      "outputs": []
    }
  ]
}