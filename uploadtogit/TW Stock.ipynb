{
 "cells": [
  {
   "cell_type": "code",
   "execution_count": 1,
   "id": "f8343e56",
   "metadata": {},
   "outputs": [
    {
     "name": "stdout",
     "output_type": "stream",
     "text": [
      "Collecting twstock\n",
      "  Downloading twstock-1.3.1-py3-none-any.whl (1.9 MB)\n",
      "Requirement already satisfied: requests in c:\\programdata\\anaconda3\\lib\\site-packages (from twstock) (2.26.0)\n",
      "Requirement already satisfied: idna<4,>=2.5 in c:\\programdata\\anaconda3\\lib\\site-packages (from requests->twstock) (3.2)\n",
      "Requirement already satisfied: charset-normalizer~=2.0.0 in c:\\programdata\\anaconda3\\lib\\site-packages (from requests->twstock) (2.0.4)\n",
      "Requirement already satisfied: certifi>=2017.4.17 in c:\\programdata\\anaconda3\\lib\\site-packages (from requests->twstock) (2021.10.8)\n",
      "Requirement already satisfied: urllib3<1.27,>=1.21.1 in c:\\programdata\\anaconda3\\lib\\site-packages (from requests->twstock) (1.26.7)\n",
      "Installing collected packages: twstock\n",
      "Successfully installed twstock-1.3.1\n",
      "Note: you may need to restart the kernel to use updated packages.\n"
     ]
    }
   ],
   "source": [
    "pip install twstock"
   ]
  },
  {
   "cell_type": "code",
   "execution_count": 6,
   "id": "5bf44880",
   "metadata": {},
   "outputs": [
    {
     "name": "stdout",
     "output_type": "stream",
     "text": [
      "日期: 2022-04-21 00:00:00\n",
      "開盤價: 571.0\n",
      "最高價: 571.0\n",
      "最低價: 565.0\n",
      "收盤價: 565.0\n"
     ]
    }
   ],
   "source": [
    "import twstock\n",
    "stock = twstock.Stock('2330')\n",
    "print(\"日期:\",stock.date[-1])\n",
    "print(\"開盤價:\",stock.open[-1])\n",
    "print(\"最高價:\",stock.high[-1])\n",
    "print(\"最低價:\",stock.low[-1])\n",
    "print(\"收盤價:\",stock.price[-1])"
   ]
  },
  {
   "cell_type": "code",
   "execution_count": null,
   "id": "ad547fe3",
   "metadata": {},
   "outputs": [],
   "source": [
    "import matplotlib.pyplot as plt\n",
    "import twstock\n",
    "#以鴻海的股票代號建立 Stock 物件\n",
    "stock = twstock.Stock('2317')\n",
    "#取得2019年12月的資料\n",
    "stocklist = stock.fetch(2019,12)\n",
    "listx = []\n",
    "listy = []\n",
    "for s in stocklist:\n",
    "    listx.append(s.date.strftime('%Y-%m-%d'))\n",
    "    listy.append(s.close)\n",
    "    \n",
    "plt.figure(figsize=[10,5])\n",
    "plt.title('鴻海2019年12月股價', fontsize=18)\n",
    "plt.xlabel(\"日期\", fontsize=14)\n",
    "plt.ylabel(\"股價\", fontsize=14)\n",
    "plt.plot(listx, listy, 'r:s')\n",
    "plt.xticks(rotation=45)\n",
    "plt.grid('k:', alpha=0.5)\n",
    "plt.ylim(88,93)\n",
    "plt.yticks(88,89,90,91,92,93)\n",
    "plt.rcParams[\"font.sans-serif\"] = \"mingliu\"\n",
    "plt.rcParams[\"axes.unicode_minus\"] = False\n",
    "\n",
    "plt.show()"
   ]
  },
  {
   "cell_type": "code",
   "execution_count": null,
   "id": "9d207bfc",
   "metadata": {},
   "outputs": [],
   "source": []
  }
 ],
 "metadata": {
  "kernelspec": {
   "display_name": "Python 3 (ipykernel)",
   "language": "python",
   "name": "python3"
  },
  "language_info": {
   "codemirror_mode": {
    "name": "ipython",
    "version": 3
   },
   "file_extension": ".py",
   "mimetype": "text/x-python",
   "name": "python",
   "nbconvert_exporter": "python",
   "pygments_lexer": "ipython3",
   "version": "3.9.7"
  }
 },
 "nbformat": 4,
 "nbformat_minor": 5
}
