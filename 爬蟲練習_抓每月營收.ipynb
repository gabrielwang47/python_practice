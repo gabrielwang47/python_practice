{
  "nbformat": 4,
  "nbformat_minor": 0,
  "metadata": {
    "colab": {
      "name": "爬蟲練習-抓每月營收.ipynb",
      "provenance": [],
      "collapsed_sections": [],
      "authorship_tag": "ABX9TyMyUgexLyvG2FnYmDKVjYi1",
      "include_colab_link": true
    },
    "kernelspec": {
      "name": "python3",
      "display_name": "Python 3"
    },
    "language_info": {
      "name": "python"
    },
    "accelerator": "GPU"
  },
  "cells": [
    {
      "cell_type": "markdown",
      "metadata": {
        "id": "view-in-github",
        "colab_type": "text"
      },
      "source": [
        "<a href=\"https://colab.research.google.com/github/gabrielwang47/python_practice/blob/main/%E7%88%AC%E8%9F%B2%E7%B7%B4%E7%BF%92_%E6%8A%93%E6%AF%8F%E6%9C%88%E7%87%9F%E6%94%B6.ipynb\" target=\"_parent\"><img src=\"https://colab.research.google.com/assets/colab-badge.svg\" alt=\"Open In Colab\"/></a>"
      ]
    },
    {
      "cell_type": "code",
      "execution_count": null,
      "metadata": {
        "id": "qLk16qXu_521"
      },
      "outputs": [],
      "source": [
        "import pandas as pd\n",
        "import requests\n",
        "from io import StringIO\n",
        "import time\n",
        "def monthly_report(year, month):\n",
        "    \n",
        "    # 假如是西元，轉成民國\n",
        "    if year > 1990:\n",
        "        year -= 1911\n",
        "    \n",
        "    url = 'https://mops.twse.com.tw/nas/t21/sii/t21sc03_'+str(year)+'_'+str(month)+'_0.html'\n",
        "    if year <= 98:\n",
        "        url = 'https://mops.twse.com.tw/nas/t21/sii/t21sc03_'+str(year)+'_'+str(month)+'.html'\n",
        "    \n",
        "    # 偽瀏覽器\n",
        "    headers = {'User-Agent': 'Mozilla/5.0 (Macintosh; Intel Mac OS X 10_10_1) AppleWebKit/537.36 (KHTML, like Gecko) Chrome/39.0.2171.95 Safari/537.36'}\n",
        "    \n",
        "    # 下載該年月的網站，並用pandas轉換成 dataframe\n",
        "    r = requests.get(url, headers=headers)\n",
        "    r.encoding = 'big5'\n",
        "\n",
        "    dfs = pd.read_html(StringIO(r.text), encoding='big-5')\n",
        "\n",
        "    df = pd.concat([df for df in dfs if df.shape[1] <= 11 and df.shape[1] > 5])\n",
        "    \n",
        "    if 'levels' in dir(df.columns):\n",
        "        df.columns = df.columns.get_level_values(1)\n",
        "    else:\n",
        "        df = df[list(range(0,10))]\n",
        "        column_index = df.index[(df[0] == '公司代號')][0]\n",
        "        df.columns = df.iloc[column_index]\n",
        "    \n",
        "    df['當月營收'] = pd.to_numeric(df['當月營收'], 'coerce')\n",
        "    df = df[~df['當月營收'].isnull()]\n",
        "    df = df[df['公司代號'] != '合計']\n",
        "    \n",
        "    # 偽停頓\n",
        "    time.sleep(5)\n",
        "\n",
        "    return df"
      ]
    },
    {
      "cell_type": "code",
      "source": [
        ""
      ],
      "metadata": {
        "id": "5nSoKbpKEl7Y"
      },
      "execution_count": null,
      "outputs": []
    }
  ]
}